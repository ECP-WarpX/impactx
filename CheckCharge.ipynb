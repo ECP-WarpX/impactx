{
 "cells": [
  {
   "cell_type": "code",
   "execution_count": null,
   "id": "3c89c5e8-f96d-4fa1-b028-6af68de335a4",
   "metadata": {
    "tags": []
   },
   "outputs": [],
   "source": [
    "import math, os\n",
    "\n",
    "import matplotlib.pyplot as plt\n",
    "import numpy as np\n",
    "\n",
    "import amrex.space3d as amr\n",
    "import impactx\n",
    "from impactx import ImpactX, RefPart, distribution, elements"
   ]
  },
  {
   "cell_type": "code",
   "execution_count": null,
   "id": "25f79882-d5c4-4798-88cd-8749bcdced2f",
   "metadata": {
    "tags": []
   },
   "outputs": [],
   "source": [
    "# set before kernel startup\n",
    "#os.environ[\"OMP_NUM_THREADS\"] = \"4\""
   ]
  },
  {
   "cell_type": "code",
   "execution_count": null,
   "id": "8f61b0c1-d389-489a-8d56-d02a4c375a3f",
   "metadata": {
    "tags": []
   },
   "outputs": [],
   "source": [
    "pp_amr = amr.ParmParse(\"amr\")\n",
    "pp_amr.add(\"max_level\", 3)\n",
    "pp_amr.addarr(\"n_cell\", [32, 32, 32])\n",
    "#pp_amr.addarr(\"n_cell\", [64, 64, 64])\n",
    "pp_amr.addarr(\"ref_ratio\", [2, 2, 2])"
   ]
  },
  {
   "cell_type": "code",
   "execution_count": null,
   "id": "462ac1b7-db7c-41b8-b5db-86be944fedba",
   "metadata": {
    "tags": []
   },
   "outputs": [],
   "source": [
    "sim = ImpactX()"
   ]
  },
  {
   "cell_type": "code",
   "execution_count": null,
   "id": "f3efde5d-b46e-4fa9-ac66-4c9d0247b91c",
   "metadata": {
    "tags": []
   },
   "outputs": [],
   "source": [
    "sim.particle_shape = 2  # B-spline order\n",
    "sim.space_charge = True\n",
    "sim.dynamic_size = True\n",
    "sim.prob_relative = [1.5, 1.1, 0.7, 0.5]\n",
    "sim.diagnostics = False"
   ]
  },
  {
   "cell_type": "code",
   "execution_count": null,
   "id": "821d8d7c-34cc-4938-95cd-24a931dae5df",
   "metadata": {
    "tags": []
   },
   "outputs": [],
   "source": [
    "sim.domain"
   ]
  },
  {
   "cell_type": "code",
   "execution_count": null,
   "id": "53144d73-60e2-4f99-98db-a8a3b560df25",
   "metadata": {
    "tags": []
   },
   "outputs": [],
   "source": [
    "#sim.domain = amr.RealBox((-15e-4, -15e-4, -3e-6), (15e-4,  15e-4,  3e-6))\n",
    "#sim.domain"
   ]
  },
  {
   "cell_type": "code",
   "execution_count": null,
   "id": "27d58863-faaa-42db-8900-fe6975a95b9e",
   "metadata": {
    "tags": []
   },
   "outputs": [],
   "source": [
    "sim.init_grids()"
   ]
  },
  {
   "cell_type": "code",
   "execution_count": null,
   "id": "752f7412-13af-4967-a51d-d17107a11a3d",
   "metadata": {
    "tags": []
   },
   "outputs": [],
   "source": [
    "# load a 2 GeV electron beam with an initial\n",
    "# unnormalized rms emittance of 2 nm\n",
    "energy_MeV = 250  # reference energy\n",
    "bunch_charge_C = 1.0e-9  # used with space charge\n",
    "npart = 10000  # number of macro particles\n",
    "\n",
    "#   reference particle\n",
    "ref = sim.particle_container().ref_particle()\n",
    "ref.set_charge_qe(-1.0).set_mass_MeV(0.510998950).set_energy_MeV(energy_MeV)\n",
    "\n",
    "#   particle bunch\n",
    "distr = distribution.Gaussian(\n",
    "    sigmaX=4.472135955e-4,\n",
    "    sigmaY=4.472135955e-4,\n",
    "    sigmaT=9.12241869e-7,\n",
    "    sigmaPx=0.0,\n",
    "    sigmaPy=0.0,\n",
    "    sigmaPt=0.0,\n",
    ")\n",
    "sim.add_particles(bunch_charge_C, distr, npart)"
   ]
  },
  {
   "cell_type": "code",
   "execution_count": null,
   "id": "caf451ad-9aa0-419f-b839-9eefde52cd98",
   "metadata": {
    "tags": []
   },
   "outputs": [],
   "source": [
    "beam = sim.particle_container()\n",
    "beam.min_and_max_positions()"
   ]
  },
  {
   "cell_type": "code",
   "execution_count": null,
   "id": "df15fe96-300a-415a-aaa7-5507c106b47e",
   "metadata": {
    "tags": []
   },
   "outputs": [],
   "source": [
    "# design the accelerator lattice\n",
    "sim.lattice.extend([\n",
    "    elements.Drift(ds=6.0e-9, nslice=1),\n",
    "    #elements.BeamMonitor('diag'),\n",
    "])"
   ]
  },
  {
   "cell_type": "code",
   "execution_count": null,
   "id": "3bb3dd5e-84f9-49ee-a736-695b8c562f83",
   "metadata": {
    "tags": []
   },
   "outputs": [],
   "source": [
    "# run simulation\n",
    "sim.evolve()"
   ]
  },
  {
   "cell_type": "code",
   "execution_count": null,
   "id": "08dbac9d-1bdb-4718-9b98-05ee515a9d31",
   "metadata": {
    "tags": []
   },
   "outputs": [],
   "source": [
    "pc = sim.particle_container()\n",
    "pc.TotalNumberOfParticles()\n",
    "# should be 10k if the box is not cut"
   ]
  },
  {
   "cell_type": "code",
   "execution_count": null,
   "id": "d8baeb49-5770-4bad-8e89-b42fe3fdc15a",
   "metadata": {
    "tags": []
   },
   "outputs": [],
   "source": [
    "rho = sim.rho(lev=0)\n",
    "rho.size"
   ]
  },
  {
   "cell_type": "code",
   "execution_count": null,
   "id": "992e0fa3-6af8-43f5-be38-ca6231565e9a",
   "metadata": {
    "tags": []
   },
   "outputs": [],
   "source": [
    "#rho = sim.rho(lev=1)\n",
    "#rho.size"
   ]
  },
  {
   "cell_type": "code",
   "execution_count": null,
   "id": "d5bfd4b4-09fc-46e2-a781-075269710787",
   "metadata": {
    "tags": []
   },
   "outputs": [],
   "source": [
    "beam = sim.particle_container()\n",
    "beam.min_and_max_positions()"
   ]
  },
  {
   "cell_type": "code",
   "execution_count": null,
   "id": "16671f0c-549a-4358-b78f-da5c6e70cb05",
   "metadata": {
    "tags": []
   },
   "outputs": [],
   "source": [
    "sim.resize_mesh()"
   ]
  },
  {
   "cell_type": "code",
   "execution_count": null,
   "id": "6518954b-cbdd-4b2b-9180-13312b8d324a",
   "metadata": {
    "tags": []
   },
   "outputs": [],
   "source": [
    "for lev in range(sim.finest_level + 1):\n",
    "    print(lev)\n",
    "    gm = sim.Geom(lev=lev)\n",
    "    print(gm.ProbDomain())\n",
    "    dm = gm.Domain()\n",
    "    print(dm, dm.size[2])"
   ]
  },
  {
   "cell_type": "code",
   "execution_count": null,
   "id": "0b3f8d78-5353-401a-bd56-79679c807e6d",
   "metadata": {
    "tags": []
   },
   "outputs": [],
   "source": [
    "def plot_rho(lev):\n",
    "    rho = sim.rho(lev=lev)\n",
    "\n",
    "    gm = sim.Geom(lev=lev)\n",
    "    dm = gm.Domain()\n",
    "    dr = gm.data().CellSize()  # dz is in time now (s-based!)\n",
    "    dV = np.prod(dr)\n",
    "    \n",
    "    rs = rho.sum_unique(comp=0, local=False)\n",
    "    beam_charge = dV * rs  # in C\n",
    "    print(f\"dr={dr}, dV={dV}\")\n",
    "    print(f\"beam_charge={beam_charge}\")\n",
    "\n",
    "    half_z = dm.size[2] // 2  # order: x,y,z\n",
    "    # lvl 0 only:\n",
    "    # half_z = sim.n_cell[2] // 2  # order: x,y,z\n",
    "\n",
    "    ng = rho.nGrowVect\n",
    "    print(f\"ng={ng}\")\n",
    "    save_png = False\n",
    "    for mfi in rho:\n",
    "        f = plt.figure()\n",
    "        ax = f.gca()\n",
    "        bx = mfi.validbox()\n",
    "        print(f\"bx={bx}\")\n",
    "        rbx = amr.RealBox(bx, dr, gm.ProbLo())\n",
    "        print(rbx)\n",
    "\n",
    "        arr = rho.array(mfi)\n",
    "        arr_np = np.array(arr, copy=False)  # indices: comp, z, y, x\n",
    "\n",
    "        # shift box to zero-based local mfi index space\n",
    "        half_z_local = half_z - bx.lo_vect[2]\n",
    "        bx.shift(bx.lo_vect * -1)\n",
    "        # check if the current tile contains the half-z plane\n",
    "        if half_z_local < 0 or half_z_local > arr_np.shape[2]:\n",
    "            continue\n",
    "\n",
    "        comp = 0\n",
    "        mu = 1.0e6  # m->mu\n",
    "        im = ax.imshow(\n",
    "            # arr_np[comp, half_z, ...] * dV,  # including guard\n",
    "            arr_np[comp, half_z_local, ng[1] : -ng[1], ng[0] : -ng[0]],\n",
    "            #* dV,  # w/o guard\n",
    "            origin=\"lower\",\n",
    "            aspect=\"auto\",\n",
    "            extent=[rbx.lo(0) * mu, rbx.hi(0) * mu, rbx.lo(1) * mu, rbx.hi(1) * mu],\n",
    "        )\n",
    "        cb = f.colorbar(im)\n",
    "        cb.set_label(r\"charge density  [C/m$^3$]\")\n",
    "        ax.set_xlabel(r\"$x$  [$\\mu$m]\")\n",
    "        ax.set_ylabel(r\"$y$  [$\\mu$m]\")\n",
    "        #if save_png:\n",
    "        #    plt.savefig(\"charge_deposition.png\")\n",
    "        #else:\n",
    "        #    plt.show()"
   ]
  },
  {
   "cell_type": "code",
   "execution_count": null,
   "id": "919b8767-6d54-4b99-955a-4f4f962e9928",
   "metadata": {
    "tags": []
   },
   "outputs": [],
   "source": [
    "plot_rho(lev=0)"
   ]
  },
  {
   "cell_type": "code",
   "execution_count": null,
   "id": "d42cbffa-7b7e-478d-9ec5-82ac368fda44",
   "metadata": {
    "tags": []
   },
   "outputs": [],
   "source": [
    "plot_rho(lev=1)"
   ]
  },
  {
   "cell_type": "code",
   "execution_count": null,
   "id": "54ebd033-264f-4edd-aab5-48ee56b69439",
   "metadata": {},
   "outputs": [],
   "source": [
    "plot_rho(lev=2)"
   ]
  },
  {
   "cell_type": "code",
   "execution_count": null,
   "id": "7c74508d-87f4-4f53-91ea-e35f717acb58",
   "metadata": {
    "tags": []
   },
   "outputs": [],
   "source": [
    "plot_rho(lev=3)"
   ]
  },
  {
   "cell_type": "code",
   "execution_count": null,
   "id": "b4fb6a97-0007-483c-802a-a16829e149dd",
   "metadata": {},
   "outputs": [],
   "source": [
    "%matplotlib widget"
   ]
  },
  {
   "cell_type": "code",
   "execution_count": null,
   "id": "1b878a22-3ddf-426f-b1ad-bee88ca7edab",
   "metadata": {
    "tags": []
   },
   "outputs": [],
   "source": [
    "from openpmd_viewer import OpenPMDTimeSeries"
   ]
  },
  {
   "cell_type": "code",
   "execution_count": null,
   "id": "74759f9b-505e-43bb-839f-578e3528e698",
   "metadata": {
    "tags": []
   },
   "outputs": [],
   "source": [
    "ts = OpenPMDTimeSeries(\"diags/diag\")"
   ]
  },
  {
   "cell_type": "code",
   "execution_count": null,
   "id": "e83069dd-7005-4e24-b50b-7ef3769a2281",
   "metadata": {},
   "outputs": [],
   "source": []
  }
 ],
 "metadata": {
  "kernelspec": {
   "display_name": "Python 3 (ipykernel)",
   "language": "python",
   "name": "python3"
  },
  "language_info": {
   "codemirror_mode": {
    "name": "ipython",
    "version": 3
   },
   "file_extension": ".py",
   "mimetype": "text/x-python",
   "name": "python",
   "nbconvert_exporter": "python",
   "pygments_lexer": "ipython3",
   "version": "3.11.0"
  }
 },
 "nbformat": 4,
 "nbformat_minor": 5
}
